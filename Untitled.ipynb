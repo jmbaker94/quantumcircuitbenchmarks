{
 "cells": [
  {
   "cell_type": "code",
   "execution_count": 7,
   "metadata": {},
   "outputs": [],
   "source": [
    "import z3\n",
    "import networkx as nx"
   ]
  },
  {
   "cell_type": "markdown",
   "metadata": {},
   "source": [
    "1. Generalized map / schedule w/ lookahead\n",
    "2. Finish ancilla distribution on device"
   ]
  },
  {
   "cell_type": "markdown",
   "metadata": {},
   "source": [
    "## Constraint satisfation for ancilla distribution.\n",
    "\n",
    "Let $G$ be the underlying topology of the input hardware. Let $m$ be the number of ancilla to be reserved. Goal: Color $m < n = |V(G)|$ vertices of $G$ so that $\\mu$ is minimized; let $B$ be the set of ancilla vertices and $R$ be the set of data vertices.\n",
    "\n",
    "$min \\mu$\n",
    "1. $\\forall v \\in R (\\forall u \\in R d(v, u) \\lt \\mu \\lor \\exists u \\in B d(v, u) \\lt \\mu)$\n",
    "2. $\\forall u \\in B \\exists v \\in B d(u, v) \\lt \\mu$\n",
    "\n",
    "Alternative Formulation (this may not produce desirable results?)\n",
    "\n",
    "$min \\sum_{u \\in B, v \\in R} d(u, v) + \\sum_{u, v \\in B} d(u, v)$"
   ]
  },
  {
   "cell_type": "code",
   "execution_count": 75,
   "metadata": {},
   "outputs": [],
   "source": [
    "def solve_ancilla_allocation(G : nx.Graph, m : int):\n",
    "    \n",
    "    def big_or(constraints):\n",
    "        assert len(constraints) > 1, 'Big Or needs more than 1 constraint'\n",
    "        new_c = z3.Or(constraints[0], constraints[1])\n",
    "\n",
    "        for i in range(2, len(constraints)):\n",
    "            new_c = z3.Or(new_c, constraints[i])\n",
    "\n",
    "        return new_c\n",
    "    \n",
    "    def _base_node_constraints(model, nodes, m):\n",
    "        for node in nodes:\n",
    "            # 0, 1 Constraint for coloring\n",
    "            model.add(0 <= nodes[node], nodes[node] <= 1)\n",
    "            \n",
    "        # Ensure exactly m of them are colored 1\n",
    "        model.add(sum(nodes.values()) == m)\n",
    "        \n",
    "    def _set_cost_constraint_v1(model, nodes, mu):\n",
    "        for n1 in nodes:\n",
    "            for n2 in nodes:\n",
    "                model.add(\n",
    "                    z3.Implies(\n",
    "                        z3.And(nodes[n1] == 1, nodes[n2] == 1),\n",
    "                        d[n1, n2] <= mu\n",
    "                    )\n",
    "                )\n",
    "                \n",
    "        constraints = []\n",
    "        for n1 in nodes:\n",
    "            for n2 in nodes:\n",
    "                constraints.append(\n",
    "                    z3.Implies(\n",
    "                            z3.And(nodes[n1] == 0, nodes[n2] == 0),\n",
    "                            d[n1, n2] <= mu\n",
    "                        )\n",
    "                )\n",
    "                constraints.append(\n",
    "                    z3.Implies(\n",
    "                        nodes[n1] + nodes[n2] == 1,\n",
    "                        d[n1, n2] <= mu\n",
    "                    )\n",
    "                )\n",
    "        model.add(big_or(constraints))\n",
    "                \n",
    "    nodes = {node : z3.Int(f'{node}') for node in G}\n",
    "    d = {}\n",
    "    for i in nx.all_pairs_shortest_path_length(g):\n",
    "        for j in i[1]:\n",
    "            d[i[0], j] = i[1][j]\n",
    "    \n",
    "    model = z3.Solver()\n",
    "    _base_node_constraints(model, nodes, m)\n",
    "    _set_cost_constraint_v1(model, nodes, 1)\n",
    "    \n",
    "    model.check()\n",
    "    return model.model()\n",
    "    "
   ]
  },
  {
   "cell_type": "code",
   "execution_count": null,
   "metadata": {},
   "outputs": [],
   "source": [
    "def grid_graph(x, y):\n",
    "    g = nx.Graph()\n",
    "    \n",
    "    for i in range(x):\n",
    "        for j in range(y):\n",
    "            "
   ]
  },
  {
   "cell_type": "code",
   "execution_count": 76,
   "metadata": {},
   "outputs": [],
   "source": [
    "g = nx.Graph()\n",
    "g.add_edge(0, 1)\n",
    "g.add_edge(1, 2)\n",
    "g.add_edge(0, 2)"
   ]
  },
  {
   "cell_type": "code",
   "execution_count": 77,
   "metadata": {},
   "outputs": [
    {
     "data": {
      "text/plain": [
       "[1 = 0, 2 = 0, 0 = 1]"
      ]
     },
     "execution_count": 77,
     "metadata": {},
     "output_type": "execute_result"
    }
   ],
   "source": [
    "solve_ancilla_allocation(g, 1)"
   ]
  },
  {
   "cell_type": "code",
   "execution_count": 74,
   "metadata": {},
   "outputs": [
    {
     "data": {
      "text/plain": [
       "Or(Or(Or(k!0, k!1), k!2), k!3)"
      ]
     },
     "execution_count": 74,
     "metadata": {},
     "output_type": "execute_result"
    }
   ],
   "source": [
    "vals = [z3.Bool(i) for i in range(4)]\n",
    "\n",
    "\n",
    "\n",
    "big_or(vals)"
   ]
  },
  {
   "cell_type": "code",
   "execution_count": null,
   "metadata": {},
   "outputs": [],
   "source": []
  }
 ],
 "metadata": {
  "kernelspec": {
   "display_name": "quantum",
   "language": "python",
   "name": "quantum"
  },
  "language_info": {
   "codemirror_mode": {
    "name": "ipython",
    "version": 3
   },
   "file_extension": ".py",
   "mimetype": "text/x-python",
   "name": "python",
   "nbconvert_exporter": "python",
   "pygments_lexer": "ipython3",
   "version": "3.8.2"
  }
 },
 "nbformat": 4,
 "nbformat_minor": 2
}
